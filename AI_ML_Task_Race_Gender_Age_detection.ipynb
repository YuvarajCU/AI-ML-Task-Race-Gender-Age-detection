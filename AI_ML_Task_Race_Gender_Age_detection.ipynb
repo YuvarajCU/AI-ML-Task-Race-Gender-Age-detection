{
  "nbformat": 4,
  "nbformat_minor": 0,
  "metadata": {
    "colab": {
      "provenance": [],
      "gpuType": "T4",
      "include_colab_link": true
    },
    "kernelspec": {
      "name": "python3",
      "display_name": "Python 3"
    },
    "language_info": {
      "name": "python"
    },
    "accelerator": "GPU"
  },
  "cells": [
    {
      "cell_type": "markdown",
      "metadata": {
        "id": "view-in-github",
        "colab_type": "text"
      },
      "source": [
        "<a href=\"https://colab.research.google.com/github/YuvarajCU/AI-ML-Task-Race-Gender-Age-detection/blob/main/AI_ML_Task_Race_Gender_Age_detection.ipynb\" target=\"_parent\"><img src=\"https://colab.research.google.com/assets/colab-badge.svg\" alt=\"Open In Colab\"/></a>"
      ]
    },
    {
      "cell_type": "markdown",
      "source": [
        "##AI/ML Task: Race/Gender/Age detection\n",
        "###Author: Yuvaraj C U\n",
        "Greetings!\n",
        "This is Yuvaraj C U and i'm interested for an intern role at your Company to learn and extend my contribution as fresher and as a fellow who loves your amazing product.\n",
        "#####The following is a python incorporating transformer model to predict Race, Gender & ethnicity. Due to computational and dataset constraints the following is the best i could with my knowledge and experience. Though I regret i couldn't impress you with my little knowledge, I'm glad to learn through this task and hopefully as an intern at your company.\n",
        "\n",
        "Questionnaire\n",
        "Please complete the following questionnaire by rating your proficiency on a scale of 1-10 in the following areas:\n",
        "Python - 7\n",
        "Image Processing (Video) - 3\n",
        "NLP - Text summarization, open-source LLM’s - 3\n",
        "Sound Processing – Tone of voice, sentiment - 3\n",
        "Transformer models - 5\n",
        "Classification/Object Detection/Semantic Segmentation/Regression or any other DNN tasks - 6\n",
        "Deep learning frameworks (Torch/TF, etc.) - 6\n",
        "\n",
        "Thanks & Regards\n",
        "####Yuvaraj C U\n",
        "\n"
      ],
      "metadata": {
        "id": "MPy48XsBjAko"
      }
    },
    {
      "cell_type": "code",
      "execution_count": null,
      "metadata": {
        "colab": {
          "base_uri": "https://localhost:8080/"
        },
        "id": "CvDDLVwrn4to",
        "outputId": "d41c3f70-ee87-47fd-e546-03f33bc2c423"
      },
      "outputs": [
        {
          "output_type": "stream",
          "name": "stdout",
          "text": [
            "Requirement already satisfied: transformers in /usr/local/lib/python3.10/dist-packages (4.35.2)\n",
            "Requirement already satisfied: filelock in /usr/local/lib/python3.10/dist-packages (from transformers) (3.13.1)\n",
            "Requirement already satisfied: huggingface-hub<1.0,>=0.16.4 in /usr/local/lib/python3.10/dist-packages (from transformers) (0.20.2)\n",
            "Requirement already satisfied: numpy>=1.17 in /usr/local/lib/python3.10/dist-packages (from transformers) (1.23.5)\n",
            "Requirement already satisfied: packaging>=20.0 in /usr/local/lib/python3.10/dist-packages (from transformers) (23.2)\n",
            "Requirement already satisfied: pyyaml>=5.1 in /usr/local/lib/python3.10/dist-packages (from transformers) (6.0.1)\n",
            "Requirement already satisfied: regex!=2019.12.17 in /usr/local/lib/python3.10/dist-packages (from transformers) (2023.6.3)\n",
            "Requirement already satisfied: requests in /usr/local/lib/python3.10/dist-packages (from transformers) (2.31.0)\n",
            "Requirement already satisfied: tokenizers<0.19,>=0.14 in /usr/local/lib/python3.10/dist-packages (from transformers) (0.15.0)\n",
            "Requirement already satisfied: safetensors>=0.3.1 in /usr/local/lib/python3.10/dist-packages (from transformers) (0.4.1)\n",
            "Requirement already satisfied: tqdm>=4.27 in /usr/local/lib/python3.10/dist-packages (from transformers) (4.66.1)\n",
            "Requirement already satisfied: fsspec>=2023.5.0 in /usr/local/lib/python3.10/dist-packages (from huggingface-hub<1.0,>=0.16.4->transformers) (2023.6.0)\n",
            "Requirement already satisfied: typing-extensions>=3.7.4.3 in /usr/local/lib/python3.10/dist-packages (from huggingface-hub<1.0,>=0.16.4->transformers) (4.5.0)\n",
            "Requirement already satisfied: charset-normalizer<4,>=2 in /usr/local/lib/python3.10/dist-packages (from requests->transformers) (3.3.2)\n",
            "Requirement already satisfied: idna<4,>=2.5 in /usr/local/lib/python3.10/dist-packages (from requests->transformers) (3.6)\n",
            "Requirement already satisfied: urllib3<3,>=1.21.1 in /usr/local/lib/python3.10/dist-packages (from requests->transformers) (2.0.7)\n",
            "Requirement already satisfied: certifi>=2017.4.17 in /usr/local/lib/python3.10/dist-packages (from requests->transformers) (2023.11.17)\n",
            "Requirement already satisfied: tensorflow in /usr/local/lib/python3.10/dist-packages (2.15.0)\n",
            "Requirement already satisfied: absl-py>=1.0.0 in /usr/local/lib/python3.10/dist-packages (from tensorflow) (1.4.0)\n",
            "Requirement already satisfied: astunparse>=1.6.0 in /usr/local/lib/python3.10/dist-packages (from tensorflow) (1.6.3)\n",
            "Requirement already satisfied: flatbuffers>=23.5.26 in /usr/local/lib/python3.10/dist-packages (from tensorflow) (23.5.26)\n",
            "Requirement already satisfied: gast!=0.5.0,!=0.5.1,!=0.5.2,>=0.2.1 in /usr/local/lib/python3.10/dist-packages (from tensorflow) (0.5.4)\n",
            "Requirement already satisfied: google-pasta>=0.1.1 in /usr/local/lib/python3.10/dist-packages (from tensorflow) (0.2.0)\n",
            "Requirement already satisfied: h5py>=2.9.0 in /usr/local/lib/python3.10/dist-packages (from tensorflow) (3.9.0)\n",
            "Requirement already satisfied: libclang>=13.0.0 in /usr/local/lib/python3.10/dist-packages (from tensorflow) (16.0.6)\n",
            "Requirement already satisfied: ml-dtypes~=0.2.0 in /usr/local/lib/python3.10/dist-packages (from tensorflow) (0.2.0)\n",
            "Requirement already satisfied: numpy<2.0.0,>=1.23.5 in /usr/local/lib/python3.10/dist-packages (from tensorflow) (1.23.5)\n",
            "Requirement already satisfied: opt-einsum>=2.3.2 in /usr/local/lib/python3.10/dist-packages (from tensorflow) (3.3.0)\n",
            "Requirement already satisfied: packaging in /usr/local/lib/python3.10/dist-packages (from tensorflow) (23.2)\n",
            "Requirement already satisfied: protobuf!=4.21.0,!=4.21.1,!=4.21.2,!=4.21.3,!=4.21.4,!=4.21.5,<5.0.0dev,>=3.20.3 in /usr/local/lib/python3.10/dist-packages (from tensorflow) (3.20.3)\n",
            "Requirement already satisfied: setuptools in /usr/local/lib/python3.10/dist-packages (from tensorflow) (67.7.2)\n",
            "Requirement already satisfied: six>=1.12.0 in /usr/local/lib/python3.10/dist-packages (from tensorflow) (1.16.0)\n",
            "Requirement already satisfied: termcolor>=1.1.0 in /usr/local/lib/python3.10/dist-packages (from tensorflow) (2.4.0)\n",
            "Requirement already satisfied: typing-extensions>=3.6.6 in /usr/local/lib/python3.10/dist-packages (from tensorflow) (4.5.0)\n",
            "Requirement already satisfied: wrapt<1.15,>=1.11.0 in /usr/local/lib/python3.10/dist-packages (from tensorflow) (1.14.1)\n",
            "Requirement already satisfied: tensorflow-io-gcs-filesystem>=0.23.1 in /usr/local/lib/python3.10/dist-packages (from tensorflow) (0.35.0)\n",
            "Requirement already satisfied: grpcio<2.0,>=1.24.3 in /usr/local/lib/python3.10/dist-packages (from tensorflow) (1.60.0)\n",
            "Requirement already satisfied: tensorboard<2.16,>=2.15 in /usr/local/lib/python3.10/dist-packages (from tensorflow) (2.15.1)\n",
            "Requirement already satisfied: tensorflow-estimator<2.16,>=2.15.0 in /usr/local/lib/python3.10/dist-packages (from tensorflow) (2.15.0)\n",
            "Requirement already satisfied: keras<2.16,>=2.15.0 in /usr/local/lib/python3.10/dist-packages (from tensorflow) (2.15.0)\n",
            "Requirement already satisfied: wheel<1.0,>=0.23.0 in /usr/local/lib/python3.10/dist-packages (from astunparse>=1.6.0->tensorflow) (0.42.0)\n",
            "Requirement already satisfied: google-auth<3,>=1.6.3 in /usr/local/lib/python3.10/dist-packages (from tensorboard<2.16,>=2.15->tensorflow) (2.17.3)\n",
            "Requirement already satisfied: google-auth-oauthlib<2,>=0.5 in /usr/local/lib/python3.10/dist-packages (from tensorboard<2.16,>=2.15->tensorflow) (1.2.0)\n",
            "Requirement already satisfied: markdown>=2.6.8 in /usr/local/lib/python3.10/dist-packages (from tensorboard<2.16,>=2.15->tensorflow) (3.5.2)\n",
            "Requirement already satisfied: requests<3,>=2.21.0 in /usr/local/lib/python3.10/dist-packages (from tensorboard<2.16,>=2.15->tensorflow) (2.31.0)\n",
            "Requirement already satisfied: tensorboard-data-server<0.8.0,>=0.7.0 in /usr/local/lib/python3.10/dist-packages (from tensorboard<2.16,>=2.15->tensorflow) (0.7.2)\n",
            "Requirement already satisfied: werkzeug>=1.0.1 in /usr/local/lib/python3.10/dist-packages (from tensorboard<2.16,>=2.15->tensorflow) (3.0.1)\n",
            "Requirement already satisfied: cachetools<6.0,>=2.0.0 in /usr/local/lib/python3.10/dist-packages (from google-auth<3,>=1.6.3->tensorboard<2.16,>=2.15->tensorflow) (5.3.2)\n",
            "Requirement already satisfied: pyasn1-modules>=0.2.1 in /usr/local/lib/python3.10/dist-packages (from google-auth<3,>=1.6.3->tensorboard<2.16,>=2.15->tensorflow) (0.3.0)\n",
            "Requirement already satisfied: rsa<5,>=3.1.4 in /usr/local/lib/python3.10/dist-packages (from google-auth<3,>=1.6.3->tensorboard<2.16,>=2.15->tensorflow) (4.9)\n",
            "Requirement already satisfied: requests-oauthlib>=0.7.0 in /usr/local/lib/python3.10/dist-packages (from google-auth-oauthlib<2,>=0.5->tensorboard<2.16,>=2.15->tensorflow) (1.3.1)\n",
            "Requirement already satisfied: charset-normalizer<4,>=2 in /usr/local/lib/python3.10/dist-packages (from requests<3,>=2.21.0->tensorboard<2.16,>=2.15->tensorflow) (3.3.2)\n",
            "Requirement already satisfied: idna<4,>=2.5 in /usr/local/lib/python3.10/dist-packages (from requests<3,>=2.21.0->tensorboard<2.16,>=2.15->tensorflow) (3.6)\n",
            "Requirement already satisfied: urllib3<3,>=1.21.1 in /usr/local/lib/python3.10/dist-packages (from requests<3,>=2.21.0->tensorboard<2.16,>=2.15->tensorflow) (2.0.7)\n",
            "Requirement already satisfied: certifi>=2017.4.17 in /usr/local/lib/python3.10/dist-packages (from requests<3,>=2.21.0->tensorboard<2.16,>=2.15->tensorflow) (2023.11.17)\n",
            "Requirement already satisfied: MarkupSafe>=2.1.1 in /usr/local/lib/python3.10/dist-packages (from werkzeug>=1.0.1->tensorboard<2.16,>=2.15->tensorflow) (2.1.3)\n",
            "Requirement already satisfied: pyasn1<0.6.0,>=0.4.6 in /usr/local/lib/python3.10/dist-packages (from pyasn1-modules>=0.2.1->google-auth<3,>=1.6.3->tensorboard<2.16,>=2.15->tensorflow) (0.5.1)\n",
            "Requirement already satisfied: oauthlib>=3.0.0 in /usr/local/lib/python3.10/dist-packages (from requests-oauthlib>=0.7.0->google-auth-oauthlib<2,>=0.5->tensorboard<2.16,>=2.15->tensorflow) (3.2.2)\n"
          ]
        }
      ],
      "source": [
        "!pip install transformers\n",
        "!pip install tensorflow"
      ]
    },
    {
      "cell_type": "code",
      "source": [
        "from google.colab import drive\n",
        "drive.mount('/content/drive')"
      ],
      "metadata": {
        "colab": {
          "base_uri": "https://localhost:8080/"
        },
        "id": "MYQOxQazTYN0",
        "outputId": "049c7e63-7b33-40f7-b476-b13f783a27c7"
      },
      "execution_count": null,
      "outputs": [
        {
          "output_type": "stream",
          "name": "stdout",
          "text": [
            "Drive already mounted at /content/drive; to attempt to forcibly remount, call drive.mount(\"/content/drive\", force_remount=True).\n"
          ]
        }
      ]
    },
    {
      "cell_type": "code",
      "source": [
        "# Import libraries\n",
        "import pandas as pd\n",
        "import numpy as np\n",
        "import matplotlib.pyplot as plt\n",
        "from sklearn.model_selection import train_test_split\n",
        "from sklearn.preprocessing import LabelEncoder\n",
        "from sklearn.utils import class_weight\n",
        "from sklearn.metrics import classification_report\n",
        "from transformers import TFBertModel, BertTokenizer\n",
        "from tensorflow.keras import layers, Model\n",
        "from tensorflow.keras.utils import to_categorical\n",
        "from tensorflow.keras.optimizers import Adam\n"
      ],
      "metadata": {
        "id": "80ka00nXn7bG"
      },
      "execution_count": null,
      "outputs": []
    },
    {
      "cell_type": "code",
      "source": [
        "# Load the dataset from Kaggle - https://www.kaggle.com/datasets/nipunarora8/age-gender-and-ethnicity-face-data-csv\n",
        "df = pd.read_csv('/content/drive/MyDrive/Elevate AI/age_gender.csv')\n",
        "\n",
        "df.head()\n",
        "df.dropna(inplace=True)\n",
        "df.shape"
      ],
      "metadata": {
        "colab": {
          "base_uri": "https://localhost:8080/"
        },
        "id": "88duoGxPdKrl",
        "outputId": "6e786544-0e7b-4731-b2b9-875768806fb0"
      },
      "execution_count": null,
      "outputs": [
        {
          "output_type": "execute_result",
          "data": {
            "text/plain": [
              "(23705, 5)"
            ]
          },
          "metadata": {},
          "execution_count": 55
        }
      ]
    },
    {
      "cell_type": "code",
      "source": [
        "# Visualize age distribution\n",
        "plt.figure(figsize=(15, 12))\n",
        "sns.countplot(data=df, x='age')\n",
        "plt.xticks(rotation=45)\n",
        "\n",
        "df['age'].value_counts()"
      ],
      "metadata": {
        "colab": {
          "base_uri": "https://localhost:8080/",
          "height": 1000
        },
        "id": "Zbcy7DQodRXD",
        "outputId": "f8cdbff9-3f5f-4422-f3ad-4cd6d3370028"
      },
      "execution_count": null,
      "outputs": [
        {
          "output_type": "execute_result",
          "data": {
            "text/plain": [
              "26     2197\n",
              "1      1123\n",
              "28      918\n",
              "35      880\n",
              "24      859\n",
              "       ... \n",
              "115       3\n",
              "101       2\n",
              "91        2\n",
              "111       1\n",
              "103       1\n",
              "Name: age, Length: 104, dtype: int64"
            ]
          },
          "metadata": {},
          "execution_count": 51
        },
        {
          "output_type": "display_data",
          "data": {
            "text/plain": [
              "<Figure size 1500x1200 with 1 Axes>"
            ],
            "image/png": "[encoded data removed]"
          },
          "metadata": {}
        }
      ]
    },
    {
      "cell_type": "code",
      "source": [
        "# Visualize ethnicity distribution\n",
        "plt.figure(figsize=(10, 7))\n",
        "sns.countplot(data=df, x='ethnicity')\n",
        "plt.xticks(rotation=45)\n",
        "\n",
        "df['ethnicity'].value_counts()"
      ],
      "metadata": {
        "colab": {
          "base_uri": "https://localhost:8080/",
          "height": 728
        },
        "id": "HbfeUpVVdrf0",
        "outputId": "d964f007-be87-4587-cfb2-fcda26f033e6"
      },
      "execution_count": null,
      "outputs": [
        {
          "output_type": "execute_result",
          "data": {
            "text/plain": [
              "0    10078\n",
              "1     4526\n",
              "3     3975\n",
              "2     3434\n",
              "4     1692\n",
              "Name: ethnicity, dtype: int64"
            ]
          },
          "metadata": {},
          "execution_count": 32
        },
        {
          "output_type": "display_data",
          "data": {
            "text/plain": [
              "<Figure size 1000x700 with 1 Axes>"
            ],
            "image/png": "[encoded data removed]"
          },
          "metadata": {}
        }
      ]
    },
    {
      "cell_type": "code",
      "source": [
        "# Visualize gender distribution\n",
        "plt.figure(figsize=(10, 5))\n",
        "sns.countplot(data=df, x='gender')\n",
        "plt.xticks(rotation=45)\n",
        "\n",
        "df['gender'].value_counts()"
      ],
      "metadata": {
        "colab": {
          "base_uri": "https://localhost:8080/",
          "height": 521
        },
        "id": "OgmKbyfcdtak",
        "outputId": "1469f01d-4d75-436f-abaf-45ae784ccbdf"
      },
      "execution_count": null,
      "outputs": [
        {
          "output_type": "execute_result",
          "data": {
            "text/plain": [
              "0    12391\n",
              "1    11314\n",
              "Name: gender, dtype: int64"
            ]
          },
          "metadata": {},
          "execution_count": 33
        },
        {
          "output_type": "display_data",
          "data": {
            "text/plain": [
              "<Figure size 1000x500 with 1 Axes>"
            ],
            "image/png": "[encoded data removed]"
          },
          "metadata": {}
        }
      ]
    },
    {
      "cell_type": "code",
      "source": [
        "# Convert the 'pixels' column to NumPy array and normalize pixel values\n",
        "df['pixels'] = df['pixels'].apply(lambda x: np.array(x.split(), dtype=\"float32\") / 255.0)\n",
        "df['pixels'][0]"
      ],
      "metadata": {
        "colab": {
          "base_uri": "https://localhost:8080/"
        },
        "id": "ywtQlf0idXkT",
        "outputId": "551a17e2-bfe0-45d8-895e-f3d2db73da99"
      },
      "execution_count": null,
      "outputs": [
        {
          "output_type": "execute_result",
          "data": {
            "text/plain": [
              "array([0.5058824 , 0.5019608 , 0.5019608 , ..., 0.57254905, 0.57254905,\n",
              "       0.57254905], dtype=float32)"
            ]
          },
          "metadata": {},
          "execution_count": 57
        }
      ]
    },
    {
      "cell_type": "code",
      "source": [
        "# Convert 'pixels' column to NumPy array\n",
        "X = np.array(df['pixels'].tolist())\n",
        "\n",
        "# Reshape the array to (-1, 48, 48, 1) for image data\n",
        "X = X.reshape(-1, 48, 48, 1)\n",
        "\n",
        "# Display the shape of X\n",
        "X.shape"
      ],
      "metadata": {
        "colab": {
          "base_uri": "https://localhost:8080/"
        },
        "id": "QzCLCFeYdj0r",
        "outputId": "8b691cf1-0263-4c90-ea6f-52deeddfa2da"
      },
      "execution_count": null,
      "outputs": [
        {
          "output_type": "execute_result",
          "data": {
            "text/plain": [
              "(23705, 48, 48, 1)"
            ]
          },
          "metadata": {},
          "execution_count": 58
        }
      ]
    },
    {
      "cell_type": "code",
      "source": [
        "# Display the shape of the first row\n",
        "X[0].shape"
      ],
      "metadata": {
        "colab": {
          "base_uri": "https://localhost:8080/"
        },
        "id": "oC0opZ3dd3ld",
        "outputId": "43602a40-eaaa-4b93-e326-15c4e3a4f297"
      },
      "execution_count": null,
      "outputs": [
        {
          "output_type": "execute_result",
          "data": {
            "text/plain": [
              "(48, 48, 1)"
            ]
          },
          "metadata": {},
          "execution_count": 59
        }
      ]
    },
    {
      "cell_type": "code",
      "source": [
        "# Display the image of the first row\n",
        "plt.imshow(X[0])\n",
        "plt.xlabel(\n",
        "    \"Age:\" + str(df['age'].iloc[0]) +\n",
        "    \"  Ethnicity:\" + str(df['ethnicity'].iloc[0]) +\n",
        "    \"  Gender:\" + str(df['gender'].iloc[0])\n",
        ")"
      ],
      "metadata": {
        "colab": {
          "base_uri": "https://localhost:8080/",
          "height": 469
        },
        "id": "L3_fcgV1d6-X",
        "outputId": "0b9cc953-e528-4b75-96ac-3b99e02833fa"
      },
      "execution_count": null,
      "outputs": [
        {
          "output_type": "execute_result",
          "data": {
            "text/plain": [
              "Text(0.5, 0, 'Age:1  Ethnicity:2  Gender:0')"
            ]
          },
          "metadata": {},
          "execution_count": 60
        },
        {
          "output_type": "display_data",
          "data": {
            "text/plain": [
              "<Figure size 640x480 with 1 Axes>"
            ],
            "image/png": "[encoded data removed]"
          },
          "metadata": {}
        }
      ]
    },
    {
      "cell_type": "code",
      "source": [
        "# Convert 'age' column to categorical labels\n",
        "df[\"age\"] = pd.cut(df[\"age\"], bins=[0, 3, 18, 45, 64, 116], labels=[\"0\", \"1\", \"2\", \"3\", \"4\"])\n",
        "y_age = to_categorical(np.array(df['age']), num_classes=5)"
      ],
      "metadata": {
        "id": "H8uFQXLMd-MW"
      },
      "execution_count": null,
      "outputs": []
    },
    {
      "cell_type": "code",
      "source": [
        "# Encode ethnicity labels\n",
        "label_encoder_ethnicity = LabelEncoder()\n",
        "df['encoded_ethnicity'] = label_encoder_ethnicity.fit_transform(df['ethnicity'])\n",
        "y_ethnicity = to_categorical(df['encoded_ethnicity'], num_classes=len(label_encoder_ethnicity.classes_))"
      ],
      "metadata": {
        "id": "1Uq6jrTrgnab"
      },
      "execution_count": null,
      "outputs": []
    },
    {
      "cell_type": "code",
      "source": [
        "# Encode gender labels\n",
        "label_encoder_gender = LabelEncoder()\n",
        "df['encoded_gender'] = label_encoder_gender.fit_transform(df['gender'])\n",
        "y_gender = to_categorical(df['encoded_gender'], num_classes=len(label_encoder_gender.classes_))"
      ],
      "metadata": {
        "id": "EdnJxhPgOJ08"
      },
      "execution_count": null,
      "outputs": []
    },
    {
      "cell_type": "code",
      "source": [
        "# Split the data\n",
        "X = np.array(df['pixels'].tolist())\n",
        "X = X.reshape(-1, 48, 48, 1)\n",
        "\n",
        "X_train, X_test, y_train_age, y_test_age, y_train_gender, y_test_gender, y_train_ethnicity, y_test_ethnicity = train_test_split(\n",
        "    X, y_age, y_gender, y_ethnicity, test_size=0.2, random_state=42\n",
        ")"
      ],
      "metadata": {
        "id": "bGGN5lUIgttt"
      },
      "execution_count": null,
      "outputs": []
    },
    {
      "cell_type": "code",
      "source": [
        "# Tokenize input data using BERT tokenizer\n",
        "tokenizer = BertTokenizer.from_pretrained('bert-base-uncased')"
      ],
      "metadata": {
        "id": "WLC4jI9gobU6"
      },
      "execution_count": null,
      "outputs": []
    },
    {
      "cell_type": "code",
      "source": [
        "# Tokenize X_train and X_test\n",
        "X_train_tokens = tokenizer(list(map(str, X_train)), padding=True, truncation=True, return_tensors=\"tf\", max_length=48)\n",
        "X_test_tokens = tokenizer(list(map(str, X_test)), padding=True, truncation=True, return_tensors=\"tf\", max_length=48)\n"
      ],
      "metadata": {
        "id": "TgLVnCX2hMqB"
      },
      "execution_count": null,
      "outputs": []
    },
    {
      "cell_type": "code",
      "source": [
        "#Build Model\n",
        "bert_model = TFBertModel.from_pretrained('bert-base-uncased')\n",
        "bert_layers = bert_model.layers[0]"
      ],
      "metadata": {
        "colab": {
          "base_uri": "https://localhost:8080/"
        },
        "id": "f_KOWPGjhgFf",
        "outputId": "de4cc8c6-560f-429a-fd62-e51622710e78"
      },
      "execution_count": null,
      "outputs": [
        {
          "output_type": "stream",
          "name": "stderr",
          "text": [
            "Some weights of the PyTorch model were not used when initializing the TF 2.0 model TFBertModel: ['cls.predictions.bias', 'cls.predictions.transform.dense.weight', 'cls.predictions.transform.dense.bias', 'cls.seq_relationship.bias', 'cls.predictions.transform.LayerNorm.bias', 'cls.predictions.transform.LayerNorm.weight', 'cls.seq_relationship.weight']\n",
            "- This IS expected if you are initializing TFBertModel from a PyTorch model trained on another task or with another architecture (e.g. initializing a TFBertForSequenceClassification model from a BertForPreTraining model).\n",
            "- This IS NOT expected if you are initializing TFBertModel from a PyTorch model that you expect to be exactly identical (e.g. initializing a TFBertForSequenceClassification model from a BertForSequenceClassification model).\n",
            "All the weights of TFBertModel were initialized from the PyTorch model.\n",
            "If your task is similar to the task the model of the checkpoint was trained on, you can already use TFBertModel for predictions without further training.\n"
          ]
        }
      ]
    },
    {
      "cell_type": "code",
      "source": [
        "# Age head\n",
        "input_age = layers.Input(shape=(48,), dtype=tf.int32, name='input_age')\n",
        "bert_output_age = bert_layers(input_age)[0][:, 0, :]\n",
        "output_age = layers.Dense(5, activation='softmax', name='output_age')(bert_output_age)"
      ],
      "metadata": {
        "id": "M4MN8TBcPAx-"
      },
      "execution_count": null,
      "outputs": []
    },
    {
      "cell_type": "code",
      "source": [
        "# Gender head\n",
        "input_gender = layers.Input(shape=(48,), dtype=tf.int32, name='input_gender')\n",
        "bert_output_gender = bert_layers(input_gender)[0][:, 0, :]\n",
        "output_gender = layers.Dense(2, activation='softmax', name='output_gender')(bert_output_gender)\n"
      ],
      "metadata": {
        "id": "U8h61vt-PEec"
      },
      "execution_count": null,
      "outputs": []
    },
    {
      "cell_type": "code",
      "source": [
        "# Ethnicity head\n",
        "input_ethnicity = layers.Input(shape=(48,), dtype=tf.int32, name='input_ethnicity')\n",
        "bert_output_ethnicity = bert_layers(input_ethnicity)[0][:, 0, :]\n",
        "output_ethnicity = layers.Dense(len(label_encoder_ethnicity.classes_), activation='softmax', name='output_ethnicity')(bert_output_ethnicity)\n"
      ],
      "metadata": {
        "id": "XXmCt9YBPKtR"
      },
      "execution_count": null,
      "outputs": []
    },
    {
      "cell_type": "code",
      "source": [
        "# Create the multi-task model\n",
        "model = Model(inputs=[input_age, input_gender, input_ethnicity], outputs=[output_age, output_gender, output_ethnicity])\n"
      ],
      "metadata": {
        "id": "iyICn7_CPNdo"
      },
      "execution_count": null,
      "outputs": []
    },
    {
      "cell_type": "code",
      "source": [
        "# Compile the model\n",
        "model.compile(optimizer=Adam(learning_rate=1e-4),\n",
        "              loss={'output_age': 'categorical_crossentropy',\n",
        "                    'output_gender': 'categorical_crossentropy',\n",
        "                    'output_ethnicity': 'categorical_crossentropy'},\n",
        "              metrics={'output_age': 'accuracy',\n",
        "                       'output_gender': 'accuracy',\n",
        "                       'output_ethnicity': 'accuracy'},\n",
        "              loss_weights={'output_age': 1.0,\n",
        "                            'output_gender': 1.0,\n",
        "                            'output_ethnicity': 1.0})\n",
        "model.summary()"
      ],
      "metadata": {
        "id": "GXMPiIEp53Fy"
      },
      "execution_count": null,
      "outputs": []
    },
    {
      "cell_type": "code",
      "source": [
        "# Train the model\n",
        "history = model.fit(\n",
        "    {'input_age': X_train_tokens['input_ids'],\n",
        "     'input_gender': X_train_tokens['input_ids'],\n",
        "     'input_ethnicity': X_train_tokens['input_ids']},\n",
        "    {'output_age': y_train_age, 'output_gender': y_train_gender, 'output_ethnicity': y_train_ethnicity},\n",
        "    validation_data=({'input_age': X_test_tokens['input_ids'],\n",
        "                      'input_gender': X_test_tokens['input_ids'],\n",
        "                      'input_ethnicity': X_test_tokens['input_ids']},\n",
        "                     {'output_age': y_test_age, 'output_gender': y_test_gender, 'output_ethnicity': y_test_ethnicity}),\n",
        "    epochs=5,\n",
        "    batch_size=32\n",
        ")"
      ],
      "metadata": {
        "id": "bBeC_fAehqWD"
      },
      "execution_count": null,
      "outputs": []
    },
    {
      "cell_type": "code",
      "source": [
        "# Evaluate the model on the test set\n",
        "eval_results = model.evaluate(\n",
        "    {'input_age': X_test_tokens['input_ids'],\n",
        "     'input_gender': X_test_tokens['input_ids'],\n",
        "     'input_ethnicity': X_test_tokens['input_ids']},\n",
        "    {'output_age': y_test_age, 'output_gender': y_test_gender, 'output_ethnicity': y_test_ethnicity},\n",
        "    verbose=0\n",
        ")\n",
        "\n",
        "# Extract individual losses and accuracies\n",
        "loss_age, accuracy_age = eval_results[1], eval_results[4]\n",
        "loss_gender, accuracy_gender = eval_results[2], eval_results[5]\n",
        "loss_ethnicity, accuracy_ethnicity = eval_results[3], eval_results[6]\n",
        "\n",
        "print('Test Age Loss:', loss_age)\n",
        "print('Test Age Accuracy:', accuracy_age)\n",
        "\n",
        "print('Test Gender Loss:', loss_gender)\n",
        "print('Test Gender Accuracy:', accuracy_gender)\n",
        "\n",
        "print('Test Ethnicity Loss:', loss_ethnicity)\n",
        "print('Test Ethnicity Accuracy:', accuracy_ethnicity)\n"
      ],
      "metadata": {
        "colab": {
          "base_uri": "https://localhost:8080/"
        },
        "id": "sssgo95Phz8n",
        "outputId": "a2deb97d-0398-4eb9-bb35-058c89d31ee8"
      },
      "execution_count": null,
      "outputs": [
        {
          "output_type": "stream",
          "name": "stdout",
          "text": [
            "Test Age Loss: 1.1754990816116333\n",
            "Test Age Accuracy: 0.5842649340629578\n",
            "Test Gender Loss: 0.6859937906265259\n",
            "Test Gender Accuracy: 0.5473528504371643\n",
            "Test Ethnicity Loss: 1.4021813869476318\n",
            "Test Ethnicity Accuracy: 0.4351402521133423\n"
          ]
        }
      ]
    },
    {
      "cell_type": "code",
      "source": [
        "# Visualize training history (accuracy and loss)\n",
        "plt.plot(history.history['output_age_accuracy'], label='Age Accuracy')\n",
        "plt.plot(history.history['output_gender_accuracy'], label='Gender Accuracy')\n",
        "plt.plot(history.history['output_ethnicity_accuracy'], label='Ethnicity Accuracy')\n",
        "plt.title('Model Accuracy')\n",
        "plt.xlabel('Epoch')\n",
        "plt.ylabel('Accuracy')\n",
        "plt.legend()\n",
        "plt.show()\n",
        "\n",
        "plt.plot(history.history['output_age_loss'], label='Age Loss')\n",
        "plt.plot(history.history['output_gender_loss'], label='Gender Loss')\n",
        "plt.plot(history.history['output_ethnicity_loss'], label='Ethnicity Loss')\n",
        "plt.title('Model Loss')\n",
        "plt.xlabel('Epoch')\n",
        "plt.ylabel('Loss')\n",
        "plt.legend()\n",
        "plt.show()"
      ],
      "metadata": {
        "id": "Vg4eQm2mPs5p"
      },
      "execution_count": null,
      "outputs": []
    }
  ]
}